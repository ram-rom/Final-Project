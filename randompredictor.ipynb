{
 "cells": [
  {
   "cell_type": "code",
   "execution_count": 1,
   "metadata": {},
   "outputs": [],
   "source": [
    "import pandas as pd \n",
    "import numpy as np\n",
    "import scipy as stats\n",
    "import seaborn as sns\n",
    "from matplotlib import pyplot as plt "
   ]
  },
  {
   "cell_type": "code",
   "execution_count": 2,
   "metadata": {},
   "outputs": [],
   "source": [
    "dataset = pd.read_csv('/new/analysis/random/miss_rate.csv')"
   ]
  },
  {
   "cell_type": "code",
   "execution_count": 3,
   "metadata": {},
   "outputs": [
    {
     "data": {
      "text/html": [
       "<div>\n",
       "<style scoped>\n",
       "    .dataframe tbody tr th:only-of-type {\n",
       "        vertical-align: middle;\n",
       "    }\n",
       "\n",
       "    .dataframe tbody tr th {\n",
       "        vertical-align: top;\n",
       "    }\n",
       "\n",
       "    .dataframe thead th {\n",
       "        text-align: right;\n",
       "    }\n",
       "</style>\n",
       "<table border=\"1\" class=\"dataframe\">\n",
       "  <thead>\n",
       "    <tr style=\"text-align: right;\">\n",
       "      <th></th>\n",
       "      <th>predictor</th>\n",
       "      <th>anagram.alpha</th>\n",
       "      <th>cc1.alpha</th>\n",
       "      <th>compress95.alpha</th>\n",
       "      <th>go.alpha</th>\n",
       "    </tr>\n",
       "  </thead>\n",
       "  <tbody>\n",
       "    <tr>\n",
       "      <th>0</th>\n",
       "      <td>random</td>\n",
       "      <td>0.32833</td>\n",
       "      <td>0.26778</td>\n",
       "      <td>0.4685</td>\n",
       "      <td>0.31058</td>\n",
       "    </tr>\n",
       "  </tbody>\n",
       "</table>\n",
       "</div>"
      ],
      "text/plain": [
       "  predictor  anagram.alpha  cc1.alpha  compress95.alpha  go.alpha\n",
       "0    random        0.32833    0.26778            0.4685   0.31058"
      ]
     },
     "execution_count": 3,
     "metadata": {},
     "output_type": "execute_result"
    }
   ],
   "source": [
    "dataset"
   ]
  },
  {
   "cell_type": "code",
   "execution_count": 4,
   "metadata": {},
   "outputs": [
    {
     "name": "stdout",
     "output_type": "stream",
     "text": [
      "   anagram.alpha  cc1.alpha  compress95.alpha  go.alpha\n",
      "0        0.32833    0.26778            0.4685   0.31058\n"
     ]
    }
   ],
   "source": [
    "ds = dataset.drop(['predictor'] , axis=1)\n",
    "print(ds)\n"
   ]
  },
  {
   "cell_type": "code",
   "execution_count": 11,
   "metadata": {},
   "outputs": [
    {
     "data": {
      "image/png": "[encoded data removed]",
      "text/plain": [
       "<Figure size 432x288 with 1 Axes>"
      ]
     },
     "metadata": {
      "needs_background": "light"
     },
     "output_type": "display_data"
    }
   ],
   "source": [
    "objects = ds.columns\n",
    "y_pos = np.arange(len(objects))\n",
    "\n",
    "p1 = ds.values[0]\n",
    "\n",
    "w=0.35\n",
    "# plt.ylim(bottom= 650)\n",
    "# plt.ylim(top=90000)\n",
    "\n",
    "plt.bar(y_pos, p1, w , color='blue')\n",
    "\n",
    "\n",
    "plt.xticks(y_pos,objects)\n",
    "#plt.xlabel('Benchmarks')\n",
    "plt.ylabel('Miss rate')\n",
    "plt.title(\"performance metrics of Random predictor - missrate \")\n",
    " #plt.ylabel(\"YAXIS\")\n",
    "#plt.hist(df_dataset['BWEIGHT'])\n",
    "#plt.bar(y_pos, performance, align='center', alpha=0.5)\n",
    "#plt.legend(loc='best')\n",
    "plt.show()"
   ]
  },
  {
   "cell_type": "code",
   "execution_count": null,
   "metadata": {},
   "outputs": [],
   "source": []
  },
  {
   "cell_type": "code",
   "execution_count": null,
   "metadata": {},
   "outputs": [],
   "source": []
  }
 ],
 "metadata": {
  "kernelspec": {
   "display_name": "Python 3",
   "language": "python",
   "name": "python3"
  },
  "language_info": {
   "codemirror_mode": {
    "name": "ipython",
    "version": 3
   },
   "file_extension": ".py",
   "mimetype": "text/x-python",
   "name": "python",
   "nbconvert_exporter": "python",
   "pygments_lexer": "ipython3",
   "version": "3.7.1"
  }
 },
 "nbformat": 4,
 "nbformat_minor": 2
}
