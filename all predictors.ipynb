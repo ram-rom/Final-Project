{
 "cells": [
  {
   "cell_type": "code",
   "execution_count": 1,
   "metadata": {},
   "outputs": [],
   "source": [
    "import pandas as pd \n",
    "import numpy as np\n",
    "import scipy as stats\n",
    "import seaborn as sns\n",
    "from matplotlib import pyplot as plt"
   ]
  },
  {
   "cell_type": "code",
   "execution_count": 4,
   "metadata": {},
   "outputs": [],
   "source": [
    "dataset1 = pd.read_csv('/analysis/missrate_allpredictors/miss_rate.csv')"
   ]
  },
  {
   "cell_type": "code",
   "execution_count": 5,
   "metadata": {},
   "outputs": [
    {
     "data": {
      "text/html": [
       "<div>\n",
       "<style scoped>\n",
       "    .dataframe tbody tr th:only-of-type {\n",
       "        vertical-align: middle;\n",
       "    }\n",
       "\n",
       "    .dataframe tbody tr th {\n",
       "        vertical-align: top;\n",
       "    }\n",
       "\n",
       "    .dataframe thead th {\n",
       "        text-align: right;\n",
       "    }\n",
       "</style>\n",
       "<table border=\"1\" class=\"dataframe\">\n",
       "  <thead>\n",
       "    <tr style=\"text-align: right;\">\n",
       "      <th></th>\n",
       "      <th>predictor</th>\n",
       "      <th>anagram.alpha</th>\n",
       "      <th>cc1.alpha</th>\n",
       "      <th>compress95.alpha</th>\n",
       "      <th>go.alpha</th>\n",
       "    </tr>\n",
       "  </thead>\n",
       "  <tbody>\n",
       "    <tr>\n",
       "      <th>0</th>\n",
       "      <td>2lev</td>\n",
       "      <td>0.10606</td>\n",
       "      <td>0.15551</td>\n",
       "      <td>0.02417</td>\n",
       "      <td>0.21181</td>\n",
       "    </tr>\n",
       "    <tr>\n",
       "      <th>1</th>\n",
       "      <td>bimod</td>\n",
       "      <td>0.03553</td>\n",
       "      <td>0.08699</td>\n",
       "      <td>0.02747</td>\n",
       "      <td>0.15522</td>\n",
       "    </tr>\n",
       "    <tr>\n",
       "      <th>2</th>\n",
       "      <td>gshare</td>\n",
       "      <td>0.03532</td>\n",
       "      <td>0.11891</td>\n",
       "      <td>0.02076</td>\n",
       "      <td>0.17531</td>\n",
       "    </tr>\n",
       "    <tr>\n",
       "      <th>3</th>\n",
       "      <td>nottaken</td>\n",
       "      <td>0.34068</td>\n",
       "      <td>0.27842</td>\n",
       "      <td>0.47230</td>\n",
       "      <td>0.31764</td>\n",
       "    </tr>\n",
       "    <tr>\n",
       "      <th>4</th>\n",
       "      <td>perceptron</td>\n",
       "      <td>0.23990</td>\n",
       "      <td>0.20131</td>\n",
       "      <td>0.48281</td>\n",
       "      <td>0.23631</td>\n",
       "    </tr>\n",
       "    <tr>\n",
       "      <th>5</th>\n",
       "      <td>random</td>\n",
       "      <td>0.32833</td>\n",
       "      <td>0.26778</td>\n",
       "      <td>0.46850</td>\n",
       "      <td>0.31058</td>\n",
       "    </tr>\n",
       "    <tr>\n",
       "      <th>6</th>\n",
       "      <td>taken</td>\n",
       "      <td>0.32253</td>\n",
       "      <td>0.25726</td>\n",
       "      <td>0.45978</td>\n",
       "      <td>0.30506</td>\n",
       "    </tr>\n",
       "  </tbody>\n",
       "</table>\n",
       "</div>"
      ],
      "text/plain": [
       "    predictor  anagram.alpha  cc1.alpha  compress95.alpha  go.alpha\n",
       "0        2lev        0.10606    0.15551           0.02417   0.21181\n",
       "1       bimod        0.03553    0.08699           0.02747   0.15522\n",
       "2      gshare        0.03532    0.11891           0.02076   0.17531\n",
       "3    nottaken        0.34068    0.27842           0.47230   0.31764\n",
       "4  perceptron        0.23990    0.20131           0.48281   0.23631\n",
       "5      random        0.32833    0.26778           0.46850   0.31058\n",
       "6       taken        0.32253    0.25726           0.45978   0.30506"
      ]
     },
     "execution_count": 5,
     "metadata": {},
     "output_type": "execute_result"
    }
   ],
   "source": [
    "dataset1"
   ]
  },
  {
   "cell_type": "code",
   "execution_count": 6,
   "metadata": {},
   "outputs": [],
   "source": [
    "ds1 = dataset1.drop(['predictor'] , axis=1)"
   ]
  },
  {
   "cell_type": "code",
   "execution_count": 7,
   "metadata": {},
   "outputs": [
    {
     "data": {
      "text/html": [
       "<div>\n",
       "<style scoped>\n",
       "    .dataframe tbody tr th:only-of-type {\n",
       "        vertical-align: middle;\n",
       "    }\n",
       "\n",
       "    .dataframe tbody tr th {\n",
       "        vertical-align: top;\n",
       "    }\n",
       "\n",
       "    .dataframe thead th {\n",
       "        text-align: right;\n",
       "    }\n",
       "</style>\n",
       "<table border=\"1\" class=\"dataframe\">\n",
       "  <thead>\n",
       "    <tr style=\"text-align: right;\">\n",
       "      <th></th>\n",
       "      <th>anagram.alpha</th>\n",
       "      <th>cc1.alpha</th>\n",
       "      <th>compress95.alpha</th>\n",
       "      <th>go.alpha</th>\n",
       "    </tr>\n",
       "  </thead>\n",
       "  <tbody>\n",
       "    <tr>\n",
       "      <th>0</th>\n",
       "      <td>0.10606</td>\n",
       "      <td>0.15551</td>\n",
       "      <td>0.02417</td>\n",
       "      <td>0.21181</td>\n",
       "    </tr>\n",
       "    <tr>\n",
       "      <th>1</th>\n",
       "      <td>0.03553</td>\n",
       "      <td>0.08699</td>\n",
       "      <td>0.02747</td>\n",
       "      <td>0.15522</td>\n",
       "    </tr>\n",
       "    <tr>\n",
       "      <th>2</th>\n",
       "      <td>0.03532</td>\n",
       "      <td>0.11891</td>\n",
       "      <td>0.02076</td>\n",
       "      <td>0.17531</td>\n",
       "    </tr>\n",
       "    <tr>\n",
       "      <th>3</th>\n",
       "      <td>0.34068</td>\n",
       "      <td>0.27842</td>\n",
       "      <td>0.47230</td>\n",
       "      <td>0.31764</td>\n",
       "    </tr>\n",
       "    <tr>\n",
       "      <th>4</th>\n",
       "      <td>0.23990</td>\n",
       "      <td>0.20131</td>\n",
       "      <td>0.48281</td>\n",
       "      <td>0.23631</td>\n",
       "    </tr>\n",
       "    <tr>\n",
       "      <th>5</th>\n",
       "      <td>0.32833</td>\n",
       "      <td>0.26778</td>\n",
       "      <td>0.46850</td>\n",
       "      <td>0.31058</td>\n",
       "    </tr>\n",
       "    <tr>\n",
       "      <th>6</th>\n",
       "      <td>0.32253</td>\n",
       "      <td>0.25726</td>\n",
       "      <td>0.45978</td>\n",
       "      <td>0.30506</td>\n",
       "    </tr>\n",
       "  </tbody>\n",
       "</table>\n",
       "</div>"
      ],
      "text/plain": [
       "   anagram.alpha  cc1.alpha  compress95.alpha  go.alpha\n",
       "0        0.10606    0.15551           0.02417   0.21181\n",
       "1        0.03553    0.08699           0.02747   0.15522\n",
       "2        0.03532    0.11891           0.02076   0.17531\n",
       "3        0.34068    0.27842           0.47230   0.31764\n",
       "4        0.23990    0.20131           0.48281   0.23631\n",
       "5        0.32833    0.26778           0.46850   0.31058\n",
       "6        0.32253    0.25726           0.45978   0.30506"
      ]
     },
     "execution_count": 7,
     "metadata": {},
     "output_type": "execute_result"
    }
   ],
   "source": [
    "ds1"
   ]
  },
  {
   "cell_type": "code",
   "execution_count": 9,
   "metadata": {},
   "outputs": [
    {
     "name": "stdout",
     "output_type": "stream",
     "text": [
      "   anagram.alpha\n",
      "0        0.10606\n",
      "1        0.03553\n",
      "2        0.03532\n",
      "3        0.34068\n",
      "4        0.23990\n",
      "5        0.32833\n",
      "6        0.32253\n",
      "   cc1.alpha\n",
      "0    0.15551\n",
      "1    0.08699\n",
      "2    0.11891\n",
      "3    0.27842\n",
      "4    0.20131\n",
      "5    0.26778\n",
      "6    0.25726\n",
      "   compress95.alpha\n",
      "0           0.02417\n",
      "1           0.02747\n",
      "2           0.02076\n",
      "3           0.47230\n",
      "4           0.48281\n",
      "5           0.46850\n",
      "6           0.45978\n",
      "   go.alpha\n",
      "0   0.21181\n",
      "1   0.15522\n",
      "2   0.17531\n",
      "3   0.31764\n",
      "4   0.23631\n",
      "5   0.31058\n",
      "6   0.30506\n"
     ]
    }
   ],
   "source": [
    "ds2 = ds1.drop(['cc1.alpha', 'compress95.alpha','go.alpha'] , axis=1)\n",
    "ds3 = ds1.drop(['anagram.alpha', 'compress95.alpha','go.alpha'] , axis=1)\n",
    "ds4 = ds1.drop(['cc1.alpha', 'anagram.alpha','go.alpha'] , axis=1)\n",
    "ds5 = ds1.drop(['cc1.alpha', 'compress95.alpha','anagram.alpha'] , axis=1)\n",
    "\n",
    "print(ds2)\n",
    "print(ds3)\n",
    "print(ds4)\n",
    "print(ds5)"
   ]
  },
  {
   "cell_type": "code",
   "execution_count": 23,
   "metadata": {},
   "outputs": [
    {
     "data": {
      "image/png": "[encoded data removed]",
      "text/plain": [
       "<Figure size 432x288 with 1 Axes>"
      ]
     },
     "metadata": {
      "needs_background": "light"
     },
     "output_type": "display_data"
    }
   ],
   "source": [
    "\n",
    "objects = ds1.columns\n",
    "y_pos = np.arange(len(objects))\n",
    "w = 0.10\n",
    "p1 = ds1.values[0]\n",
    "p2 = ds1.values[1]\n",
    "p3 = ds1.values[2]\n",
    "p4 = ds1.values[3]\n",
    "p5 = ds1.values[4]\n",
    "p6 = ds1.values[5]\n",
    "p7 = ds1.values[6]\n",
    "\n",
    "#plt.ylim(bottom= 0.09)\n",
    "#plt.ylim(top=17100)\n",
    "plt.bar(y_pos, p1, w , color='orange' , label= '2-level')\n",
    "plt.bar(y_pos+w, p2 ,w ,color = 'purple', label= 'bimod')\n",
    "plt.bar(y_pos+w+w, p3 ,w ,color = 'black', label= 'gshare ')\n",
    "plt.bar(y_pos+w+w+w, p4 ,w ,color = 'blue', label= 'not taken ')\n",
    "plt.bar(y_pos+w+w+w+w, p5 ,w ,color = 'yellow', label= 'perceptron')\n",
    "plt.bar(y_pos+w+w+w+w+w, p6 ,w ,color = 'pink', label= 'random')\n",
    "plt.bar(y_pos+w+w+w+w+w+w, p7 ,w ,color = 'green', label= 'taken')\n",
    "\n",
    "plt.xticks(y_pos+w+w+w+w,objects)\n",
    "plt.ylabel('Miss Rates')\n",
    "plt.title(\"performance comparion of various predictors \")\n",
    "plt.legend(loc='best')\n",
    "#plt.legend()\n",
    "plt.show()\n"
   ]
  },
  {
   "cell_type": "code",
   "execution_count": 19,
   "metadata": {},
   "outputs": [
    {
     "data": {
      "image/png": "[encoded data removed]",
      "text/plain": [
       "<Figure size 432x288 with 1 Axes>"
      ]
     },
     "metadata": {
      "needs_background": "light"
     },
     "output_type": "display_data"
    }
   ],
   "source": [
    "objects = ds2.columns\n",
    "y_pos = np.arange(len(objects))\n",
    "w = 0.10\n",
    "p1 = ds2.values[0]\n",
    "p2 = ds2.values[1]\n",
    "p3 = ds2.values[2]\n",
    "p4 = ds2.values[3]\n",
    "p5 = ds2.values[4]\n",
    "p6 = ds2.values[5]\n",
    "p7 = ds2.values[6]\n",
    "\n",
    "#plt.ylim(bottom= 0.09)\n",
    "#plt.ylim(top=17100)\n",
    "plt.bar(y_pos, p1, w , color='orange' , label= '2-level')\n",
    "plt.bar(y_pos+w, p2 ,w ,color = 'purple', label= 'bimod')\n",
    "plt.bar(y_pos+w+w, p3 ,w ,color = 'black', label= 'Gshare')\n",
    "plt.bar(y_pos+w+w+w, p4 ,w ,color = 'blue', label= 'not taken')\n",
    "plt.bar(y_pos+w+w+w+w, p5 ,w ,color = 'yellow', label= 'perceptron')\n",
    "plt.bar(y_pos+w+w+w+w+w, p6 ,w ,color = 'pink', label= 'random')\n",
    "plt.bar(y_pos+w+w+w+w+w+w, p7 ,w ,color = 'green', label= 'taken')\n",
    "plt.xlabel('anagram.aplha')\n",
    "#plt.xticks(y_pos+w+w+w+w,objects)\n",
    "plt.ylabel('Miss Rates')\n",
    "plt.title(\"performance comparion of various predictors -anagram \")\n",
    "plt.legend(loc='best')\n",
    "#plt.legend()\n",
    "plt.show()"
   ]
  },
  {
   "cell_type": "code",
   "execution_count": 20,
   "metadata": {},
   "outputs": [
    {
     "data": {
      "image/png": "[encoded data removed]",
      "text/plain": [
       "<Figure size 432x288 with 1 Axes>"
      ]
     },
     "metadata": {
      "needs_background": "light"
     },
     "output_type": "display_data"
    }
   ],
   "source": [
    "objects3 = ds3.columns\n",
    "y_pos3 = np.arange(len(objects3))\n",
    "w3 = 0.10\n",
    "pb1 = ds3.values[0]\n",
    "pb2 = ds3.values[1]\n",
    "pb3 = ds3.values[2]\n",
    "pb4 = ds3.values[3]\n",
    "pb5 = ds3.values[4]\n",
    "pb6 = ds3.values[5]\n",
    "pb7 = ds3.values[6]\n",
    "\n",
    "#plt.ylim(bottom= 0.09)\n",
    "#plt.ylim(top=17100)\n",
    "plt.bar(y_pos3, pb1, w3 , color='orange' , label= '2-level')\n",
    "plt.bar(y_pos3+w3, pb2 ,w3 ,color = 'purple', label= 'bimod')\n",
    "plt.bar(y_pos3+w3+w3, pb3 ,w3 ,color = 'black', label= 'Gshare')\n",
    "plt.bar(y_pos3+w3+w3+w3, pb4 ,w3 ,color = 'blue', label= 'not taken')\n",
    "plt.bar(y_pos3+w3+w3+w3+w3, pb5 ,w3 ,color = 'yellow', label= 'perceptron')\n",
    "plt.bar(y_pos3+w3+w3+w3+w3+w3, pb6 ,w3 ,color = 'pink', label= 'random')\n",
    "plt.bar(y_pos3+w3+w3+w3+w3+w3+w3, pb7 ,w3 ,color = 'green', label= 'taken')\n",
    "plt.xlabel('CC1.aplha')\n",
    "#plt.xticks(y_pos+w+w+w+w,objects)\n",
    "plt.ylabel('Miss Rates')\n",
    "plt.title(\"performance comparion of various predictors- cc1\")\n",
    "plt.legend(loc='best')\n",
    "#plt.legend()\n",
    "plt.show()"
   ]
  },
  {
   "cell_type": "code",
   "execution_count": 21,
   "metadata": {},
   "outputs": [
    {
     "data": {
      "image/png": "[encoded data removed]",
      "text/plain": [
       "<Figure size 432x288 with 1 Axes>"
      ]
     },
     "metadata": {
      "needs_background": "light"
     },
     "output_type": "display_data"
    }
   ],
   "source": [
    "objects4 = ds4.columns\n",
    "y_pos4 = np.arange(len(objects4))\n",
    "w4 = 0.10\n",
    "pc1 = ds4.values[0]\n",
    "pc2 = ds4.values[1]\n",
    "pc3 = ds4.values[2]\n",
    "pc4 = ds4.values[3]\n",
    "pc5 = ds4.values[4]\n",
    "pc6 = ds4.values[5]\n",
    "pc7 = ds4.values[6]\n",
    "\n",
    "#plt.ylim(bottom= 0.09)\n",
    "#plt.ylim(top=17100)\n",
    "plt.bar(y_pos4, pc1, w4 , color='orange' , label= '2-level')\n",
    "plt.bar(y_pos4+w4, pc2 ,w4 ,color = 'purple', label= 'bimod')\n",
    "plt.bar(y_pos4+w4+w4, pc3 ,w4 ,color = 'black', label= 'Gshare')\n",
    "plt.bar(y_pos4+w4+w4+w4, pc4 ,w4 ,color = 'blue', label= 'not taken')\n",
    "plt.bar(y_pos4+w4+w4+w4+w4, pc5 ,w4 ,color = 'yellow', label= 'perceptron')\n",
    "plt.bar(y_pos4+w4+w4+w4+w4+w4, pc6 ,w4 ,color = 'pink', label= 'random')\n",
    "plt.bar(y_pos4+w4+w4+w4+w4+w4+w4, pc7 ,w4 ,color = 'green', label= 'taken')\n",
    "plt.xlabel('compress95.aplha')\n",
    "#plt.xticks(y_pos+w+w+w+w,objects)\n",
    "plt.ylabel('Miss Rates')\n",
    "plt.title(\"performance comparion of various predictors - compress \")\n",
    "plt.legend(loc='best')\n",
    "#plt.legend()\n",
    "plt.show()"
   ]
  },
  {
   "cell_type": "code",
   "execution_count": 22,
   "metadata": {},
   "outputs": [
    {
     "data": {
      "image/png": "[encoded data removed]",
      "text/plain": [
       "<Figure size 432x288 with 1 Axes>"
      ]
     },
     "metadata": {
      "needs_background": "light"
     },
     "output_type": "display_data"
    }
   ],
   "source": [
    "objects5 = ds5.columns\n",
    "y_pos5 = np.arange(len(objects5))\n",
    "w5 = 0.10\n",
    "pd1 = ds5.values[0]\n",
    "pd2 = ds5.values[1]\n",
    "pd3 = ds5.values[2]\n",
    "pd4 = ds5.values[3]\n",
    "pd5 = ds5.values[4]\n",
    "pd6 = ds5.values[5]\n",
    "pd7 = ds5.values[6]\n",
    "\n",
    "#plt.ylim(bottom= 0.09)\n",
    "#plt.ylim(top=17100)\n",
    "plt.bar(y_pos5, pd1, w5 , color='orange' , label= '2-level')\n",
    "plt.bar(y_pos5+w5, pd2 ,w5 ,color = 'purple', label= 'bimod')\n",
    "plt.bar(y_pos5+w5+w5, pd3 ,w5 ,color = 'black', label= 'Gshare')\n",
    "plt.bar(y_pos5+w5+w5+w5, pd4 ,w5 ,color = 'blue', label= 'not taken')\n",
    "plt.bar(y_pos5+w5+w5+w5+w5, pd5 ,w5 ,color = 'yellow', label= 'perceptron')\n",
    "plt.bar(y_pos5+w5+w5+w5+w5+w5, pd6 ,w5 ,color = 'pink', label= 'random')\n",
    "plt.bar(y_pos5+w5+w5+w5+w5+w5+w5, pd7 ,w5 ,color = 'green', label= 'taken')\n",
    "plt.xlabel('go.aplha')\n",
    "#plt.xticks(y_pos+w+w+w+w,objects)\n",
    "plt.ylabel('Miss Rates')\n",
    "plt.title(\"performance comparion of various predictors  - GO\")\n",
    "plt.legend(loc='best')\n",
    "#plt.legend()\n",
    "plt.show()"
   ]
  },
  {
   "cell_type": "code",
   "execution_count": null,
   "metadata": {},
   "outputs": [],
   "source": []
  }
 ],
 "metadata": {
  "kernelspec": {
   "display_name": "Python 3",
   "language": "python",
   "name": "python3"
  },
  "language_info": {
   "codemirror_mode": {
    "name": "ipython",
    "version": 3
   },
   "file_extension": ".py",
   "mimetype": "text/x-python",
   "name": "python",
   "nbconvert_exporter": "python",
   "pygments_lexer": "ipython3",
   "version": "3.7.1"
  }
 },
 "nbformat": 4,
 "nbformat_minor": 2
}
