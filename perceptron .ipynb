{
 "cells": [
  {
   "cell_type": "code",
   "execution_count": 1,
   "metadata": {},
   "outputs": [],
   "source": [
    "import pandas as pd \n",
    "import numpy as np\n",
    "import scipy as stats\n",
    "import seaborn as sns\n",
    "from matplotlib import pyplot as plt "
   ]
  },
  {
   "cell_type": "code",
   "execution_count": 2,
   "metadata": {},
   "outputs": [],
   "source": [
    "dataset1 = pd.read_csv('/analysis/perceptron_l1size_128/miss_rate.csv')\n",
    "dataset2= pd.read_csv('/analysis/perceptron_l1size_256/miss_rate.csv')\n",
    "dataset3 = pd.read_csv('/analysis/perceptron_l1size_512/miss_rate.csv')\n",
    "dataset4 = pd.read_csv('analysis/perceptron_l1size_1024/miss_rate.csv')\n"
   ]
  },
  {
   "cell_type": "code",
   "execution_count": 3,
   "metadata": {},
   "outputs": [
    {
     "name": "stdout",
     "output_type": "stream",
     "text": [
      "    predictor  anagram.alpha  cc1.alpha  compress95.alpha  go.alpha\n",
      "0  perceptron         0.2399    0.20131           0.48281   0.23631\n",
      "    predictor  anagram.alpha  cc1.alpha  compress95.alpha  go.alpha\n",
      "0  perceptron         0.2399    0.20131           0.48281   0.23631\n",
      "    predictor  anagram.alpha  cc1.alpha  compress95.alpha  go.alpha\n",
      "0  perceptron         0.2399    0.20131           0.48281   0.23631\n",
      "    predictor  anagram.alpha  cc1.alpha  compress95.alpha  go.alpha\n",
      "0  perceptron         0.2399    0.20131           0.48281   0.23631\n"
     ]
    }
   ],
   "source": [
    "print(dataset1)\n",
    "print(dataset2)\n",
    "print(dataset3)\n",
    "print(dataset4)\n"
   ]
  },
  {
   "cell_type": "code",
   "execution_count": 4,
   "metadata": {},
   "outputs": [
    {
     "name": "stdout",
     "output_type": "stream",
     "text": [
      "   anagram.alpha  cc1.alpha  compress95.alpha  go.alpha\n",
      "0         0.2399    0.20131           0.48281   0.23631\n",
      "   anagram.alpha  cc1.alpha  compress95.alpha  go.alpha\n",
      "0         0.2399    0.20131           0.48281   0.23631\n",
      "   anagram.alpha  cc1.alpha  compress95.alpha  go.alpha\n",
      "0         0.2399    0.20131           0.48281   0.23631\n",
      "   anagram.alpha  cc1.alpha  compress95.alpha  go.alpha\n",
      "0         0.2399    0.20131           0.48281   0.23631\n"
     ]
    }
   ],
   "source": [
    "ds128 = dataset1.drop(['predictor'] , axis=1)\n",
    "print(ds128)\n",
    "ds256 = dataset2.drop(['predictor'] , axis=1)\n",
    "print(ds256)\n",
    "ds512 = dataset3.drop(['predictor'] , axis=1)\n",
    "print(ds512)\n",
    "ds1024 = dataset4.drop(['predictor'] , axis=1)\n",
    "print(ds1024)"
   ]
  },
  {
   "cell_type": "code",
   "execution_count": 17,
   "metadata": {},
   "outputs": [
    {
     "name": "stdout",
     "output_type": "stream",
     "text": [
      "   misses   total  miss_rate\n",
      "0     226    1451    0.15575\n",
      "1    1777   15888    0.11185\n",
      "2     458    3329    0.13758\n",
      "3     323    2178    0.14830\n",
      "4     176    1049    0.16778\n",
      "5    1210    8072    0.14990\n",
      "6   16986  185806    0.09142\n",
      "   misses  miss_rate\n",
      "0     226    0.15575\n",
      "1    1777    0.11185\n",
      "2     458    0.13758\n",
      "3     323    0.14830\n",
      "4     176    0.16778\n",
      "5    1210    0.14990\n",
      "6   16986    0.09142\n",
      "   misses\n",
      "0     226\n",
      "1    1777\n",
      "2     458\n",
      "3     323\n",
      "4     176\n",
      "5    1210\n",
      "6   16986\n",
      "   miss_rate\n",
      "0    0.15575\n",
      "1    0.11185\n",
      "2    0.13758\n",
      "3    0.14830\n",
      "4    0.16778\n",
      "5    0.14990\n",
      "6    0.09142\n"
     ]
    }
   ],
   "source": [
    "# ds8 = dataset2.drop(['benchmark'] , axis=1)\n",
    "# print(ds8)\n",
    "# ds81 = ds8.drop(['total'] , axis=1)\n",
    "# print(ds81)\n",
    "# ds82 = ds81.drop(['miss_rate'] , axis=1)\n",
    "# print(ds82)\n",
    "# ds83 = ds81.drop(['misses'] , axis=1)\n",
    "# print(ds83)"
   ]
  },
  {
   "cell_type": "code",
   "execution_count": 8,
   "metadata": {},
   "outputs": [
    {
     "data": {
      "image/png": "[encoded data removed]",
      "text/plain": [
       "<Figure size 432x288 with 1 Axes>"
      ]
     },
     "metadata": {
      "needs_background": "light"
     },
     "output_type": "display_data"
    }
   ],
   "source": [
    "objects3 = ds128.columns\n",
    "y_pos3 = np.arange(len(objects3))\n",
    "w = 0.35\n",
    "p128 = ds128.values[0]\n",
    "p256 = ds256.values[0]\n",
    "p512 = ds512.values[0]\n",
    "p1024 = ds1024.values[0]\n",
    "\n",
    "plt.plot(p128, 'ro-' ,linewidth=1 , color = 'green' , label ='128k')\n",
    "plt.plot(p256, 'ro-' ,linewidth=1 , color = 'red' , label = '256')\n",
    "plt.plot(p512, 'ro-' ,linewidth=1 , color = 'blue' , label = '512')\n",
    "plt.plot(p1024, 'ro-' ,linewidth=1 , color = 'yellow' , label = '1024')\n",
    "\n",
    "\n",
    "plt.xticks(y_pos3,objects3)\n",
    "#plt.xlabel('BenchMarks')\n",
    "plt.ylabel('Miss-Rate')\n",
    "plt.title(\"performance metrics of perceptron  at Various L1 sizes 128,256,512 and 1024 - miss-rate \")\n",
    "plt.legend(loc='best')\n",
    "plt.show()"
   ]
  },
  {
   "cell_type": "code",
   "execution_count": null,
   "metadata": {},
   "outputs": [],
   "source": []
  }
 ],
 "metadata": {
  "kernelspec": {
   "display_name": "Python 3",
   "language": "python",
   "name": "python3"
  },
  "language_info": {
   "codemirror_mode": {
    "name": "ipython",
    "version": 3
   },
   "file_extension": ".py",
   "mimetype": "text/x-python",
   "name": "python",
   "nbconvert_exporter": "python",
   "pygments_lexer": "ipython3",
   "version": "3.7.1"
  }
 },
 "nbformat": 4,
 "nbformat_minor": 2
}
